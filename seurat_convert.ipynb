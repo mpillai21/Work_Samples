{
 "cells": [
  {
   "cell_type": "code",
   "execution_count": 2,
   "metadata": {},
   "outputs": [],
   "source": [
    "import scanpy as sc"
   ]
  },
  {
   "cell_type": "code",
   "execution_count": 10,
   "metadata": {},
   "outputs": [],
   "source": [
    "import os\n",
    "import scipy.io as sio\n",
    "import pandas as pd\n",
    "import scipy.sparse as sp"
   ]
  },
  {
   "cell_type": "code",
   "execution_count": 4,
   "metadata": {},
   "outputs": [],
   "source": [
    "adata = sc.read_h5ad(\"C:/Users/Meenakshi Pillai/Downloads/All_subset.h5ad/All_subset.h5ad\")"
   ]
  },
  {
   "cell_type": "code",
   "execution_count": 5,
   "metadata": {},
   "outputs": [
    {
     "data": {
      "text/plain": [
       "AnnData object with n_obs × n_vars = 21486 × 51734\n",
       "    obs: 'sample_id', 'batch', 'developmental_stage', 'site', 'gender', 'donor_id', 'platform', 'dataset', 'unit'\n",
       "    layers: 'counts'"
      ]
     },
     "execution_count": 5,
     "metadata": {},
     "output_type": "execute_result"
    }
   ],
   "source": [
    "adata"
   ]
  },
  {
   "cell_type": "code",
   "execution_count": 11,
   "metadata": {},
   "outputs": [],
   "source": [
    "def save_anndata_for_seurat(adata, output_dir=\"C:/Users/Meenakshi Pillai/Downloads/All_subset.h5ad/seurat_conversion\"):\n",
    "    os.makedirs(output_dir, exist_ok=True)\n",
    "    \n",
    "    print(f\"Matrix shape: {adata.X.shape}\")\n",
    "    print(f\"Features shape: {adata.var_names.shape}\")\n",
    "    print(f\"Number of cells: {len(adata.obs_names)}\")\n",
    "    \n",
    "    # Extract count matrix\n",
    "    matrix = adata.X\n",
    "    if sp.issparse(matrix):\n",
    "        matrix = matrix.tocoo()\n",
    "        # Ensure features are rows, cells are columns\n",
    "        if matrix.shape[0] != len(adata.var_names):\n",
    "            print(\"Transposing matrix...\")\n",
    "            matrix = matrix.transpose()\n",
    "    \n",
    "    # Save count matrix in Matrix Market format\n",
    "    sio.mmwrite(f\"{output_dir}/counts.mtx\", matrix)\n",
    "    \n",
    "    # Save feature (gene) names\n",
    "    pd.DataFrame(adata.var_names).to_csv(\n",
    "        f\"{output_dir}/features.tsv\", \n",
    "        sep='\\t', \n",
    "        header=False, \n",
    "        index=False\n",
    "    )\n",
    "    \n",
    "    # Save cell barcodes\n",
    "    pd.DataFrame(adata.obs_names).to_csv(\n",
    "        f\"{output_dir}/barcodes.tsv\", \n",
    "        sep='\\t', \n",
    "        header=False, \n",
    "        index=False\n",
    "    )\n",
    "\n"
   ]
  },
  {
   "cell_type": "code",
   "execution_count": 12,
   "metadata": {},
   "outputs": [
    {
     "name": "stdout",
     "output_type": "stream",
     "text": [
      "Matrix shape: (21486, 51734)\n",
      "Features shape: (51734,)\n",
      "Number of cells: 21486\n",
      "Transposing matrix...\n"
     ]
    }
   ],
   "source": [
    "save_anndata_for_seurat(adata)\n"
   ]
  },
  {
   "cell_type": "code",
   "execution_count": 13,
   "metadata": {},
   "outputs": [],
   "source": [
    "# Save metadata (obs) as CSV\n",
    "metadata = adata.obs\n",
    "metadata.to_csv(\"C:/Users/Meenakshi Pillai/Downloads/All_subset.h5ad/metadata.csv\")\n"
   ]
  }
 ],
 "metadata": {
  "kernelspec": {
   "display_name": "tangram-env",
   "language": "python",
   "name": "python3"
  },
  "language_info": {
   "codemirror_mode": {
    "name": "ipython",
    "version": 3
   },
   "file_extension": ".py",
   "mimetype": "text/x-python",
   "name": "python",
   "nbconvert_exporter": "python",
   "pygments_lexer": "ipython3",
   "version": "3.8.19"
  }
 },
 "nbformat": 4,
 "nbformat_minor": 2
}
